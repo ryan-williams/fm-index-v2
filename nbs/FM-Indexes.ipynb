{
 "cells": [
  {
   "cell_type": "code",
   "execution_count": 2,
   "metadata": {
    "collapsed": true
   },
   "outputs": [],
   "source": [
    "from ctypes import *\n",
    "libfm = CDLL(\"libfm_index.so\")\n",
    "libc = CDLL(\"libc-2.12.so\")\n",
    "printf = libc.printf"
   ]
  },
  {
   "cell_type": "code",
   "execution_count": 3,
   "metadata": {
    "collapsed": true
   },
   "outputs": [],
   "source": [
    "def load_index(fn):\n",
    "    index = c_void_p()\n",
    "    err = libfm.load_index(fn.encode(\"utf-8\"), byref(index))\n",
    "    if err:\n",
    "        raise Error(\"Error loading index: %d\" % err)\n",
    "    return index"
   ]
  },
  {
   "cell_type": "code",
   "execution_count": 4,
   "metadata": {
    "collapsed": false
   },
   "outputs": [],
   "source": [
    "index = load_index(\"/hpc/users/willir31/dna.50MB\")"
   ]
  },
  {
   "cell_type": "code",
   "execution_count": 5,
   "metadata": {
    "collapsed": true
   },
   "outputs": [],
   "source": [
    "def extract(index, pos, num):\n",
    "    text = c_char_p()\n",
    "    read = c_int()\n",
    "    err = libfm.extract(index, pos, pos + num - 1, byref(text), byref(read))\n",
    "    if err:\n",
    "        raise Error(\"Error extracting from index: %d\" % err)\n",
    "    return text.value[:num]"
   ]
  },
  {
   "cell_type": "code",
   "execution_count": 36,
   "metadata": {
    "collapsed": false,
    "scrolled": true
   },
   "outputs": [
    {
     "data": {
      "text/plain": [
       "b'GATCAATGAG'"
      ]
     },
     "execution_count": 36,
     "metadata": {},
     "output_type": "execute_result"
    }
   ],
   "source": [
    "extract(index, 0, 10)"
   ]
  },
  {
   "cell_type": "code",
   "execution_count": 10,
   "metadata": {
    "collapsed": true
   },
   "outputs": [],
   "source": [
    "def locate(index, pattern):\n",
    "    occs = pointer(c_int())\n",
    "    num_occs = c_int()\n",
    "    err = libfm.locate(index, pattern.encode(\"utf-8\"), len(pattern), byref(occs), byref(num_occs))\n",
    "    if err:\n",
    "        raise Error(\"Error locating %s: %d\" % (pattern, err))\n",
    "    ret = []\n",
    "    for i in range(num_occs.value):\n",
    "        ret.append(occs[i])\n",
    "    return ret, num_occs.value"
   ]
  },
  {
   "cell_type": "code",
   "execution_count": 11,
   "metadata": {
    "collapsed": false
   },
   "outputs": [
    {
     "data": {
      "text/plain": [
       "([20466271, 2334036, 1069262, 39613552], 4)"
      ]
     },
     "execution_count": 11,
     "metadata": {},
     "output_type": "execute_result"
    }
   ],
   "source": [
    "locate(index, \"AACCCGGGTT\")"
   ]
  },
  {
   "cell_type": "code",
   "execution_count": 12,
   "metadata": {
    "collapsed": true
   },
   "outputs": [],
   "source": [
    "def count(index, pattern):\n",
    "    num_occs = c_int()\n",
    "    err = libfm.count(index, pattern.encode(\"utf-8\"), len(pattern), byref(num_occs))\n",
    "    if err:\n",
    "        raise Error(\"Error locating %s: %d\" % (pattern, err))\n",
    "    return num_occs.value"
   ]
  },
  {
   "cell_type": "code",
   "execution_count": 13,
   "metadata": {
    "collapsed": false
   },
   "outputs": [
    {
     "data": {
      "text/plain": [
       "4"
      ]
     },
     "execution_count": 13,
     "metadata": {},
     "output_type": "execute_result"
    }
   ],
   "source": [
    "count(index, \"AACCCGGGTT\")"
   ]
  },
  {
   "cell_type": "code",
   "execution_count": 30,
   "metadata": {
    "collapsed": true
   },
   "outputs": [],
   "source": [
    "def display(index, pattern, num_chars):\n",
    "    text = c_char_p()\n",
    "    lengths = pointer(c_int())\n",
    "    num_occs = c_int()\n",
    "    err = libfm.display(\n",
    "        index, \n",
    "        pattern.encode(\"utf-8\"), \n",
    "        len(pattern), \n",
    "        num_chars, \n",
    "        byref(num_occs),\n",
    "        byref(text),\n",
    "        byref(lengths)\n",
    "    )\n",
    "    if err:\n",
    "        raise Error(\"Error locating %s: %d\" % (pattern, err))\n",
    "    texts = []\n",
    "    idx = 0\n",
    "    ls = []\n",
    "    for i in range(num_occs.value):\n",
    "        texts.append(text.value[idx:idx+lengths[i]])\n",
    "        ls.append(lengths[i])\n",
    "        idx += lengths[i]\n",
    "    return num_occs.value, texts, ls"
   ]
  },
  {
   "cell_type": "code",
   "execution_count": 35,
   "metadata": {
    "collapsed": false
   },
   "outputs": [
    {
     "data": {
      "text/plain": [
       "(4,\n",
       " [b'AAAAGAACCCGGGTTTTATT',\n",
       "  b'ATTTGAACCCGGGTTTGCAT',\n",
       "  b'ACTTGAACCCGGGTTGCAGT',\n",
       "  b'GCTTGAACCCGGGTTGGGTA'],\n",
       " [20, 20, 20, 20])"
      ]
     },
     "execution_count": 35,
     "metadata": {},
     "output_type": "execute_result"
    }
   ],
   "source": [
    "display(index, \"AACCCGGGTT\", 5)"
   ]
  },
  {
   "cell_type": "code",
   "execution_count": 17,
   "metadata": {
    "collapsed": false
   },
   "outputs": [],
   "source": [
    "from os import path\n",
    "from ctypes import *\n",
    "\n",
    "class FMIndex:\n",
    "    \n",
    "    def __init__(self, fn, libfm_index_name=\"libfm_index.so\"):\n",
    "        fmi_path = fn if fn.endswith(\".fmi\") else \"%s.fmi\" % fn\n",
    "        self.libfm = CDLL(libfm_index_name)\n",
    "        if path.exists(fmi_path):\n",
    "            self.load(fn)\n",
    "        elif path.exists(fn):\n",
    "            self.build(fn)\n",
    "        else:\n",
    "            raise IOError(\"Specify a path to build or load index from; %s and %s don't exist\" % (fmi_path, fn))\n",
    "    \n",
    "    def build(self, fn, outfile=None, buckets1=16, buckets2=512, freq=64):\n",
    "        outfile = outfile if outfile else fn\n",
    "        self.libfm.fm_build_index(fn.encode('utf-8'), outfile.encode(\"utf-8\"), buckets1, buckets2, freq)\n",
    "        self.load(outfile)\n",
    "    \n",
    "    def load(self, fn):\n",
    "        self._index = c_void_p()\n",
    "        if fn.endswith(\".fmi\"):\n",
    "            fn = fn[:-4]\n",
    "        err = self.libfm.load_index(fn.encode(\"utf-8\"), byref(self._index))\n",
    "        if err:\n",
    "            raise Error(\"Error loading index: %d\" % err)\n",
    "    \n",
    "    def count(self, pattern):\n",
    "        num_occs = c_int()\n",
    "        err = self.libfm.count(self._index, pattern.encode(\"utf-8\"), len(pattern), byref(num_occs))\n",
    "        if err:\n",
    "            raise Error(\"Error locating %s: %d\" % (pattern, err))\n",
    "        return num_occs.value\n",
    "\n",
    "    def locate(self, pattern):\n",
    "        occs = pointer(c_int())\n",
    "        num_occs = c_int()\n",
    "        err = self.libfm.locate(self._index, pattern.encode(\"utf-8\"), len(pattern), byref(occs), byref(num_occs))\n",
    "        if err:\n",
    "            raise Error(\"Error locating %s: %d\" % (pattern, err))\n",
    "        ret = []\n",
    "        for i in range(num_occs.value):\n",
    "            ret.append(occs[i])\n",
    "        return ret, num_occs.value\n",
    "    \n",
    "    def display(self, pattern, num_chars):\n",
    "        text = c_char_p()\n",
    "        lengths = pointer(c_int())\n",
    "        num_occs = c_int()\n",
    "        err = self.libfm.display(\n",
    "            self._index, \n",
    "            pattern.encode(\"utf-8\"), \n",
    "            len(pattern), \n",
    "            num_chars, \n",
    "            byref(num_occs),\n",
    "            byref(text),\n",
    "            byref(lengths)\n",
    "        )\n",
    "        if err:\n",
    "            raise Error(\"Error locating %s: %d\" % (pattern, err))\n",
    "        texts = []\n",
    "        idx = 0\n",
    "        ls = []\n",
    "        for i in range(num_occs.value):\n",
    "            texts.append(text.value[idx:idx+lengths[i]])\n",
    "            ls.append(lengths[i])\n",
    "            idx += lengths[i]\n",
    "        return num_occs.value, texts, ls\n",
    "    \n",
    "    def extract(self, pos, num):\n",
    "        text = c_char_p()\n",
    "        read = c_int()\n",
    "        err = self.libfm.extract(self._index, pos, pos + num - 1, byref(text), byref(read))\n",
    "        if err:\n",
    "            raise Error(\"Error extracting from index: %d\" % err)\n",
    "        return text.value[:num]\n"
   ]
  },
  {
   "cell_type": "code",
   "execution_count": 12,
   "metadata": {
    "collapsed": false
   },
   "outputs": [],
   "source": [
    "fmi = FMIndex(\"/hpc/users/willir31/dna.50MB.fmi\")"
   ]
  },
  {
   "cell_type": "code",
   "execution_count": 13,
   "metadata": {
    "collapsed": false
   },
   "outputs": [
    {
     "data": {
      "text/plain": [
       "c_void_p(51569344)"
      ]
     },
     "execution_count": 13,
     "metadata": {},
     "output_type": "execute_result"
    }
   ],
   "source": [
    "fmi._index"
   ]
  },
  {
   "cell_type": "code",
   "execution_count": 15,
   "metadata": {
    "collapsed": false
   },
   "outputs": [
    {
     "data": {
      "text/plain": [
       "4"
      ]
     },
     "execution_count": 15,
     "metadata": {},
     "output_type": "execute_result"
    }
   ],
   "source": [
    "fmi.count(\"AACCCGGGTT\")"
   ]
  },
  {
   "cell_type": "code",
   "execution_count": 16,
   "metadata": {
    "collapsed": false
   },
   "outputs": [
    {
     "data": {
      "text/plain": [
       "([20466271, 2334036, 1069262, 39613552], 4)"
      ]
     },
     "execution_count": 16,
     "metadata": {},
     "output_type": "execute_result"
    }
   ],
   "source": [
    "fmi.locate(\"AACCCGGGTT\")"
   ]
  },
  {
   "cell_type": "code",
   "execution_count": 17,
   "metadata": {
    "collapsed": false
   },
   "outputs": [
    {
     "data": {
      "text/plain": [
       "b'GATCAATGAGGTGGACACCA'"
      ]
     },
     "execution_count": 17,
     "metadata": {},
     "output_type": "execute_result"
    }
   ],
   "source": [
    "fmi.extract(0, 20)"
   ]
  },
  {
   "cell_type": "code",
   "execution_count": 18,
   "metadata": {
    "collapsed": false
   },
   "outputs": [
    {
     "data": {
      "text/plain": [
       "(4,\n",
       " [b'AAAAGAACCCGGGTTTTATT',\n",
       "  b'ATTTGAACCCGGGTTTGCAT',\n",
       "  b'ACTTGAACCCGGGTTGCAGT',\n",
       "  b'GCTTGAACCCGGGTTGGGTA'],\n",
       " [20, 20, 20, 20])"
      ]
     },
     "execution_count": 18,
     "metadata": {},
     "output_type": "execute_result"
    }
   ],
   "source": [
    "fmi.display(\"AACCCGGGTT\", 5)"
   ]
  },
  {
   "cell_type": "code",
   "execution_count": 20,
   "metadata": {
    "collapsed": false
   },
   "outputs": [],
   "source": [
    "fmi2 = FMIndex(\"/hpc/users/willir31/dna.50MB\")"
   ]
  },
  {
   "cell_type": "code",
   "execution_count": 21,
   "metadata": {
    "collapsed": false
   },
   "outputs": [
    {
     "data": {
      "text/plain": [
       "(4,\n",
       " [b'AAAAGAACCCGGGTTTTATT',\n",
       "  b'ATTTGAACCCGGGTTTGCAT',\n",
       "  b'ACTTGAACCCGGGTTGCAGT',\n",
       "  b'GCTTGAACCCGGGTTGGGTA'],\n",
       " [20, 20, 20, 20])"
      ]
     },
     "execution_count": 21,
     "metadata": {},
     "output_type": "execute_result"
    }
   ],
   "source": [
    "fmi2.display(\"AACCCGGGTT\", 5)"
   ]
  },
  {
   "cell_type": "code",
   "execution_count": null,
   "metadata": {
    "collapsed": false
   },
   "outputs": [],
   "source": [
    "fm189 = FMIndex(\"/hpc/users/willir31/data/pt189/PT_189_Left_Ovary_RNA.accepted_hits.sort.coord.dna\")"
   ]
  },
  {
   "cell_type": "code",
   "execution_count": 1,
   "metadata": {
    "collapsed": true
   },
   "outputs": [],
   "source": [
    "import pysam"
   ]
  },
  {
   "cell_type": "code",
   "execution_count": 3,
   "metadata": {
    "collapsed": true
   },
   "outputs": [],
   "source": [
    "bam = pysam.AlignmentFile(\"/demeter/scratch/datasets/pt189/PT_189_Left_Ovary_RNA.accepted_hits.sort.coord.bam\", \"rb\")"
   ]
  },
  {
   "cell_type": "code",
   "execution_count": 4,
   "metadata": {
    "collapsed": false,
    "scrolled": true
   },
   "outputs": [
    {
     "ename": "ValueError",
     "evalue": "fetch called on bamfile without index",
     "output_type": "error",
     "traceback": [
      "\u001b[1;31m---------------------------------------------------------------------------\u001b[0m",
      "\u001b[1;31mValueError\u001b[0m                                Traceback (most recent call last)",
      "\u001b[1;32m<ipython-input-4-8f2fe22fc593>\u001b[0m in \u001b[0;36m<module>\u001b[1;34m()\u001b[0m\n\u001b[1;32m----> 1\u001b[1;33m \u001b[0mreads\u001b[0m \u001b[1;33m=\u001b[0m \u001b[0mbam\u001b[0m\u001b[1;33m.\u001b[0m\u001b[0mfetch\u001b[0m\u001b[1;33m(\u001b[0m\u001b[1;33m)\u001b[0m\u001b[1;33m\u001b[0m\u001b[0m\n\u001b[0m",
      "\u001b[1;32mpysam/calignmentfile.pyx\u001b[0m in \u001b[0;36mpysam.calignmentfile.AlignmentFile.fetch (pysam/calignmentfile.c:10986)\u001b[1;34m()\u001b[0m\n",
      "\u001b[1;31mValueError\u001b[0m: fetch called on bamfile without index"
     ]
    }
   ],
   "source": [
    "reads = bam.fetch()"
   ]
  },
  {
   "cell_type": "code",
   "execution_count": 14,
   "metadata": {
    "collapsed": false
   },
   "outputs": [],
   "source": [
    "def to_dna(bamfile, outfile=None):\n",
    "    bam = pysam.AlignmentFile(bamfile, \"rb\")\n",
    "    outfile = outfile if outfile else (bamfile + \".dna\")\n",
    "    with open(outfile, 'w') as of:\n",
    "        for read in bam:\n",
    "            of.write(read.seq)\n",
    "            of.write(\"\\n\")"
   ]
  },
  {
   "cell_type": "code",
   "execution_count": 15,
   "metadata": {
    "collapsed": true
   },
   "outputs": [],
   "source": [
    "to_dna(\n",
    "    \"/demeter/scratch/datasets/pt189/PT_189_Left_Ovary_RNA.accepted_hits.sort.coord.bam\",\n",
    "    \"/hpc/users/willir31/data/pt189/PT_189_Left_Ovary_RNA.accepted_hits.sort.coord.dna\"\n",
    ")"
   ]
  },
  {
   "cell_type": "code",
   "execution_count": null,
   "metadata": {
    "collapsed": true
   },
   "outputs": [],
   "source": []
  }
 ],
 "metadata": {
  "kernelspec": {
   "display_name": "Python 3",
   "language": "python",
   "name": "python3"
  },
  "language_info": {
   "codemirror_mode": {
    "name": "ipython",
    "version": 3
   },
   "file_extension": ".py",
   "mimetype": "text/x-python",
   "name": "python",
   "nbconvert_exporter": "python",
   "pygments_lexer": "ipython3",
   "version": "3.4.0"
  }
 },
 "nbformat": 4,
 "nbformat_minor": 0
}
